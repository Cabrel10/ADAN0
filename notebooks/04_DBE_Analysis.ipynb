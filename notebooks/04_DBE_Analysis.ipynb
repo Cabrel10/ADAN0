{
  "cells": [
    {
      "cell_type": "markdown",
      "metadata": {},
      "source": [
        "# Analyse des m\u00e9triques du Dynamic Behavior Engine (DBE) - Test d'Endurance"
      ]
    },
    {
      "cell_type": "code",
      "execution_count": null,
      "metadata": {},
      "outputs": [],
      "source": [
        "import pandas as pd\n",
        "import matplotlib.pyplot as plt\n",
        "import seaborn as sns\n",
        "import json\n",
        "import numpy as np\n",
        "\n",
        "sns.set_theme(style=\"darkgrid\")\n",
        "print('Biblioth\u00e8ques import\u00e9es.')"
      ]
    },
    {
      "cell_type": "markdown",
      "metadata": {},
      "source": [
        "## 1. Chargement des donn\u00e9es\n",
        "\n",
        "On charge le fichier de logs `endurance_metrics.jsonl` qui contient les m\u00e9triques enregistr\u00e9es pendant le test d'endurance. Chaque ligne est un objet JSON qui est converti en ligne dans un DataFrame pandas."
      ]
    },
    {
      "cell_type": "code",
      "execution_count": null,
      "metadata": {},
      "outputs": [],
      "source": [
        "log_file = '../logs/endurance_metrics.jsonl'\n",
        "data = []\n",
        "\n",
        "# On s'assure que le fichier existe pour \u00e9viter une erreur\n",
        "try:\n",
        "    with open(log_file, 'r') as f:\n",
        "        for line in f:\n",
        "            try:\n",
        "                data.append(json.loads(line))\n",
        "            except json.JSONDecodeError:\n",
        "                print(f\"Ligne JSON malform\u00e9e ignor\u00e9e : {line.strip()}\")\n",
        "    df = pd.DataFrame(data)\n",
        "    print(f'{len(df)} lignes charg\u00e9es avec succ\u00e8s.')\n",
        "except FileNotFoundError:\n",
        "    print(f'Erreur : Le fichier {log_file} n\'a pas \u00e9t\u00e9 trouv\u00e9.')\n",
        "    print('Veuillez lancer le test d\'endurance pour g\u00e9n\u00e9rer le fichier de logs.')\n",
        "    df = pd.DataFrame() # Cr\u00e9e un dataframe vide pour que les cellules suivantes ne crashent pas\n",
        "\n",
        "if not df.empty:\n",
        "    # Conversion du timestamp et gestion des valeurs manquantes\n",
        "    if 'timestamp' in df.columns:\n",
        "        df['timestamp'] = pd.to_datetime(df['timestamp'])\n",
        "    \n",
        "    # Initialiser les colonnes si elles n'existent pas pour \u00e9viter les erreurs\n",
        "    for col in ['sl_pct', 'tp_pct', 'drawdown', 'reward_boost', 'penalty_inaction', 'capital', 'risk_mode']:\n",
        "        if col not in df.columns:\n",
        "            df[col] = np.nan # Utiliser NaN pour mieux g\u00e9rer les donn\u00e9es manquantes\n",
        "    \n",
        "    df.info()\n",
        "    df.head()"
      ]
    },
    {
      "cell_type": "markdown",
      "metadata": {},
      "source": [
        "## 2. \u00c9volution des param\u00e8tres de risque (SL/TP)\n",
        "\n",
        "Ce graphique montre comment les pourcentages de Stop Loss (`sl_pct`) et de Take Profit (`tp_pct`) ont \u00e9volu\u00e9 au cours du test. Cela permet de visualiser les ajustements faits par le DBE en fonction des conditions de march\u00e9."
      ]
    },
    {
      "cell_type": "code",
      "execution_count": null,
      "metadata": {},
      "outputs": [],
      "source": [
        "if not df.empty and 'timestamp' in df.columns:\n",
        "    plt.figure(figsize=(15, 7))\n",
        "    plt.plot(df['timestamp'], df['sl_pct'].fillna(method='ffill'), label='SL %', marker='.', linestyle='-', markersize=4)\n",
        "    plt.plot(df['timestamp'], df['tp_pct'].fillna(method='ffill'), label='TP %', marker='.', linestyle='-', markersize=4)\n",
        "    plt.title('\u00c9volution des Stop Loss (SL) et Take Profit (TP) au fil du temps')\n",
        "    plt.xlabel('Temps')\n",
        "    plt.ylabel('Pourcentage (%)')\n",
        "    plt.legend()\n",
        "    plt.show()\n",
        "else:\n",
        "    print('DataFrame vide ou colonne `timestamp` manquante. Impossible de g\u00e9n\u00e9rer le graphique.')"
      ]
    },
    {
      "cell_type": "markdown",
      "metadata": {},
      "source": [
        "## 3. Corr\u00e9lation entre Drawdown et Mode de Risque\n",
        "\n",
        "On analyse ici la relation entre le `drawdown` et le `risk_mode`. On s'attend \u00e0 ce que le mode `DEFENSIVE` soit activ\u00e9 lors des p\u00e9riodes de drawdown plus important pour prot\u00e9ger le capital."
      ]
    },
    {
      "cell_type": "code",
      "execution_count": null,
      "metadata": {},
      "outputs": [],
      "source": [
        "if not df.empty and 'risk_mode' in df.columns and 'drawdown' in df.columns and not df['risk_mode'].isnull().all():\n",
        "    plt.figure(figsize=(12, 7))\n",
        "    sns.boxplot(x='risk_mode', y='drawdown', data=df)\n",
        "    plt.title('Distribution du Drawdown par Mode de Risque')\n",
        "    plt.xlabel('Mode de Risque')\n",
        "    plt.ylabel('Drawdown')\n",
        "    plt.show()\n",
        "\n",
        "    print(\"Statistiques du drawdown par mode de risque:\")\n",
        "    print(df.groupby('risk_mode')['drawdown'].describe())\n",
        "else:\n",
        "    print('Donn\u00e9es insuffisantes pour l\'analyse du drawdown par mode de risque.')"
      ]
    },
    {
      "cell_type": "markdown",
      "metadata": {},
      "source": [
        "## 4. Analyse des R\u00e9compenses et P\u00e9nalit\u00e9s\n",
        "\n",
        "Les histogrammes suivants permettent d'\u00e9valuer l'efficacit\u00e9 des m\u00e9canismes de r\u00e9compense et de p\u00e9nalit\u00e9 du DBE.\n",
        "\n",
        "- **`reward_boost`**: Montre la distribution des r\u00e9compenses additionnelles.\n",
        "- **`penalty_inaction`**: Montre la fr\u00e9quence et l'amplitude des p\u00e9nalit\u00e9s pour inaction."
      ]
    },
    {
      "cell_type": "code",
      "execution_count": null,
      "metadata": {},
      "outputs": [],
      "source": [
        "if not df.empty and 'reward_boost' in df.columns and not df['reward_boost'].isnull().all() and df['reward_boost'].sum() != 0:\n",
        "    plt.figure(figsize=(12, 6))\n",
        "    # On filtre les valeurs non nulles pour l'histogramme\n",
        "    reward_data = df['reward_boost'].dropna()\n",
        "    sns.histplot(reward_data[reward_data != 0], kde=True, bins=30)\n",
        "    plt.title(\"Distribution des 'Reward Boosts' (hors valeurs nulles)\")\n",
        "    plt.xlabel('Valeur du Reward Boost')\n",
        "    plt.ylabel('Fr\u00e9quence')\n",
        "    plt.show()\n",
        "else:\n",
        "    print(\"Pas de donn\u00e9es pour 'reward_boost' \u00e0 afficher.\")"
      ]
    },
    {
      "cell_type": "code",
      "execution_count": null,
      "metadata": {},
      "outputs": [],
      "source": [
        "if not df.empty and 'penalty_inaction' in df.columns and not df['penalty_inaction'].isnull().all() and df['penalty_inaction'].sum() != 0:\n",
        "    plt.figure(figsize=(12, 6))\n",
        "    # On filtre les valeurs non nulles pour l'histogramme\n",
        "    penalty_data = df['penalty_inaction'].dropna()\n",
        "    sns.histplot(penalty_data[penalty_data != 0], kde=True, bins=30)\n",
        "    plt.title(\"Distribution des 'Penalty Inaction' (hors valeurs nulles)\")\n",
        "    plt.xlabel('Valeur de la p\u00e9nalit\u00e9')\n",
        "    plt.ylabel('Fr\u00e9quence')\n",
        "    plt.show()\n",
        "else:\n",
        "    print(\"Pas de donn\u00e9es pour 'penalty_inaction' \u00e0 afficher.\")"
      ]
    },
    {
      "cell_type": "markdown",
      "metadata": {},
      "source": [
        "## 5. \u00c9volution du Capital\n",
        "\n",
        "Enfin, le graphique le plus important : l'\u00e9volution du capital au fil du temps. Il donne une vue d'ensemble de la performance de la strat\u00e9gie."
      ]
    },
    {
      "cell_type": "code",
      "execution_count": null,
      "metadata": {},
      "outputs": [],
      "source": [
        "if not df.empty and 'capital' in df.columns and 'timestamp' in df.columns:\n",
        "    plt.figure(figsize=(15, 7))\n",
        "    plt.plot(df['timestamp'], df['capital'].fillna(method='ffill'), label='Capital', color='green')\n",
        "    plt.title('\u00c9volution du Capital au fil du temps')\n",
        "    plt.xlabel('Temps')\n",
        "    plt.ylabel('Capital')\n",
        "    plt.legend()\n",
        "    plt.show()\n",
        "else:\n",
        "    print('Donn\u00e9es de capital ou de timestamp insuffisantes pour g\u00e9n\u00e9rer le graphique.')"
      ]
    }
  ],
  "metadata": {
    "kernelspec": {
      "display_name": "Python 3 (ipykernel)",
      "language": "python",
      "name": "python3"
    },
    "language_info": {
      "codemirror_mode": {
        "name": "ipython",
        "version": 3
      },
      "file_extension": ".py",
      "mimetype": "text/x-python",
      "name": "python",
      "nbconvert_exporter": "python",
      "pygments_lexer": "ipython3",
      "version": "3.11.6"
    }
  },
  "nbformat": 4,
  "nbformat_minor": 5
}