{
 "cells": [
  {
   "cell_type": "markdown",
   "metadata": {},
   "source": [
    "# ADAN Trading Bot - Lanceur pour Google Colab\n",
    "\n",
    "Ce notebook configure l'environnement nécessaire pour exécuter votre projet de trading sur Google Colab et profiter du GPU gratuit."
   ]
  },
  {
   "cell_type": "markdown",
   "metadata": {},
   "source": [
    "## Étape 1 : Vérification et Activation du GPU\n",
    "\n",
    "Avant toute chose, assurez-vous que le GPU est bien activé. \n",
    "1. Allez dans le menu **Exécution** (Runtime) -> **Modifier le type d'exécution** (Change runtime type).\n",
    "2. Sélectionnez **GPU** dans le menu déroulant `Accélérateur matériel` (Hardware accelerator).\n",
    "3. Exécutez la cellule ci-dessous. Elle devrait afficher les détails de la carte GPU allouée (généralement une Tesla T4 ou similaire)."
   ]
  },
  {
   "cell_type": "code",
   "execution_count": null,
   "metadata": {},
   "outputs": [],
   "source": [
    "!nvidia-smi"
   ]
  },
  {
   "cell_type": "markdown",
   "metadata": {},
   "source": [
    "## Étape 2 : Clonage du Dépôt GitHub\n",
    "\n",
    "Cette cellule va cloner votre projet depuis GitHub dans l'environnement Colab."
   ]
  },
  {
   "cell_type": "code",
   "execution_count": null,
   "metadata": {},
   "outputs": [],
   "source": [
    "!git clone https://github.com/Cabrel10/ADAN0.git\n",
    "%cd ADAN0"
   ]
  },
  {
   "cell_type": "markdown",
   "metadata": {},
   "source": [
    "## Étape 3 : Installation des Dépendances\n",
    "\n",
    "Cette section installe toutes les librairies nécessaires. Elle est divisée en deux parties :\n",
    "1. Installation de la librairie C `TA-Lib`, qui est une dépendance requise.\n",
    "2. Installation de toutes les librairies Python listées dans votre fichier `requirements.txt`."
   ]
  },
  {
   "cell_type": "code",
   "execution_count": null,
   "metadata": {},
   "outputs": [],
   "source": [
    "# Installation de la dépendance TA-Lib (partie 1)\n",
    "!wget http://prdownloads.sourceforge.net/ta-lib/ta-lib-0.4.0-src.tar.gz\n",
    "!tar -xzvf ta-lib-0.4.0-src.tar.gz\n",
    "!cd ta-lib && ./configure --prefix=/usr && make && make install"
   ]
  },
  {
   "cell_type": "code",
   "execution_count": null,
   "metadata": {},
   "outputs": [],
   "source": [
    "# Installation des dépendances Python (partie 2)\n",
    "# Nous installons TA-Lib via pip maintenant que la librairie C est en place\n",
    "!pip install TA-Lib\n",
    "!pip install -r requirements.txt"
   ]
  }
 ],
 "metadata": {
  "kernelspec": {
   "display_name": "Python 3",
   "language": "python",
   "name": "python3"
  },
  "language_info": {
   "name": "python",
   "version": "3.11.0"
  }
 },
 "nbformat": 4,
 "nbformat_minor": 4
}